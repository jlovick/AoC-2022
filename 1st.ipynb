{
 "cells": [
  {
   "cell_type": "code",
   "execution_count": 22,
   "id": "899e76f4-5793-4a73-9e01-c4ed3b8e535d",
   "metadata": {},
   "outputs": [],
   "source": [
    "import sys\n",
    "import numpy as np\n"
   ]
  },
  {
   "cell_type": "code",
   "execution_count": 16,
   "id": "1cb60220-bff4-41f7-a8b1-a5f99399a594",
   "metadata": {},
   "outputs": [],
   "source": [
    "elf =1\n",
    "calories = 0\n",
    "with open(\"./puzzle_input.txt\") as file:\n",
    "    current_calories = 0\n",
    "    current_elf = 1\n",
    "    for line in file:\n",
    "        curline = line.rstrip()\n",
    "        if len(curline) > 0:\n",
    "            current_calories += int(curline)\n",
    "        else:\n",
    "            if (current_calories > calories):\n",
    "                elf = current_elf\n",
    "                calories = current_calories\n",
    "            current_elf += 1\n",
    "            current_calories = 0"
   ]
  },
  {
   "cell_type": "code",
   "execution_count": 17,
   "id": "70048377-0c75-499d-8d90-aaf45494c009",
   "metadata": {},
   "outputs": [
    {
     "name": "stdout",
     "output_type": "stream",
     "text": [
      " elf 40 --> calories 72070\n"
     ]
    }
   ],
   "source": [
    "print(f\" elf {elf} --> calories {calories}\")"
   ]
  },
  {
   "cell_type": "code",
   "execution_count": 24,
   "id": "6b69cce5-3a5a-40a6-b190-78b4d56880bd",
   "metadata": {},
   "outputs": [
    {
     "data": {
      "text/plain": [
       "211805"
      ]
     },
     "execution_count": 24,
     "metadata": {},
     "output_type": "execute_result"
    }
   ],
   "source": [
    "elf = []\n",
    "calories = 0\n",
    "with open(\"./puzzle_input.txt\") as file:\n",
    "    current_calories = 0\n",
    "    current_elf = 1\n",
    "    for line in file:\n",
    "        curline = line.rstrip()\n",
    "        if len(curline) > 0:\n",
    "            current_calories += int(curline)\n",
    "        else:\n",
    "            elf.append(current_calories)\n",
    "            current_calories = 0\n",
    "            current_elf += 1\n",
    "\n",
    "np.sum(sorted(elf)[-3:])\n"
   ]
  },
  {
   "cell_type": "code",
   "execution_count": null,
   "id": "b76cb0ea-fd05-4ed8-8766-5b3022408c67",
   "metadata": {},
   "outputs": [],
   "source": []
  }
 ],
 "metadata": {
  "kernelspec": {
   "display_name": "Python 3 (ipykernel)",
   "language": "python",
   "name": "python3"
  },
  "language_info": {
   "codemirror_mode": {
    "name": "ipython",
    "version": 3
   },
   "file_extension": ".py",
   "mimetype": "text/x-python",
   "name": "python",
   "nbconvert_exporter": "python",
   "pygments_lexer": "ipython3",
   "version": "3.9.7"
  }
 },
 "nbformat": 4,
 "nbformat_minor": 5
}
