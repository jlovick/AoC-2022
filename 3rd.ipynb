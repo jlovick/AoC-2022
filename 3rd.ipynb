{
 "cells": [
  {
   "cell_type": "code",
   "execution_count": 1,
   "id": "a96d2830-0914-4469-860c-89063d6f980a",
   "metadata": {},
   "outputs": [],
   "source": [
    "import sys\n",
    "import numpy as np"
   ]
  },
  {
   "cell_type": "code",
   "execution_count": 24,
   "id": "e45c13e6-4df2-46fa-9643-f527a6242f8a",
   "metadata": {},
   "outputs": [
    {
     "name": "stdout",
     "output_type": "stream",
     "text": [
      " score : 7674\n"
     ]
    }
   ],
   "source": [
    "backpack_left = {}\n",
    "backpack_right = {}\n",
    "input = \"./puzzle_input/puzzle_input_3rd.txt\"\n",
    "#input = \"./example/example_3rd.txt\"\n",
    "score = 0\n",
    "with open(input) as file:\n",
    "    for line in file:\n",
    "          backpack_left = {}\n",
    "          backpack_right = {}\n",
    "          line = line.rstrip()\n",
    "          items = len(line)\n",
    "          left_side = int(items / 2)\n",
    "          for i in range(0,left_side):\n",
    "              left_key = line[i]\n",
    "              right_key  = line[i+left_side]\n",
    "              backpack_left[left_key] = backpack_left.get(left_key,0) + 1\n",
    "              backpack_right[right_key] = backpack_right.get(right_key,0) + 1\n",
    "          #ok now check if side have same key\n",
    "          left_set = set(backpack_left.keys())\n",
    "          right_set = set(backpack_right.keys())\n",
    "          union_set = left_set.intersection(right_set)\n",
    "          #print(union_set)\n",
    "          if not list(union_set)[0] == list(union_set)[0].upper():\n",
    "                score += ord(list(union_set)[0]) - ord(\"a\") + 1 \n",
    "          else:\n",
    "                score += ord(list(union_set)[0]) - ord(\"A\") + 27\n",
    "print(f\" score : {score}\")"
   ]
  },
  {
   "cell_type": "code",
   "execution_count": 28,
   "id": "66ec697e-2e0f-403f-9e8e-8c4780813a9a",
   "metadata": {},
   "outputs": [],
   "source": [
    "def calc_score(in_char):\n",
    "    if not in_char == in_char.upper():\n",
    "        return ord(in_char) - ord(\"a\") + 1 \n",
    "    else:\n",
    "        return ord(in_char) - ord(\"A\") + 27"
   ]
  },
  {
   "cell_type": "code",
   "execution_count": 37,
   "id": "e12083d1-8273-4c59-a40d-833118e4c6ed",
   "metadata": {},
   "outputs": [
    {
     "name": "stdout",
     "output_type": "stream",
     "text": [
      " score : 2805\n"
     ]
    }
   ],
   "source": [
    "backpacks={}\n",
    "input = \"./puzzle_input/puzzle_input_3rd.txt\"\n",
    "#input = \"./example/example_3rd.txt\"\n",
    "score = 0\n",
    "current_line = 0\n",
    "with open(input) as file:\n",
    "    for line in file:\n",
    "          current_line = current_line % 3\n",
    "          backpacks[current_line] = {}\n",
    "          line = line.rstrip()\n",
    "          for this_key in line:\n",
    "              backpacks[current_line][this_key] = backpacks[current_line].get(this_key,0) + 1\n",
    "          #ok now check if side have same key\n",
    "          if current_line == 2:\n",
    "              left_set = set(backpacks[0].keys())\n",
    "              middle_set = set(backpacks[1].keys())\n",
    "              right_set = set(backpacks[2].keys())\n",
    "              union_set = (left_set.intersection(right_set)).intersection(middle_set)\n",
    "              #print(union_set)\n",
    "              score +=  calc_score(list(union_set)[0])\n",
    "              current_line = 0\n",
    "          else:\n",
    "                current_line += 1\n",
    "print(f\" score : {score}\")"
   ]
  },
  {
   "cell_type": "code",
   "execution_count": null,
   "id": "a951376c-5e5b-4aa5-97f1-3db2c4cf16e3",
   "metadata": {},
   "outputs": [],
   "source": []
  }
 ],
 "metadata": {
  "kernelspec": {
   "display_name": "Python 3 (ipykernel)",
   "language": "python",
   "name": "python3"
  },
  "language_info": {
   "codemirror_mode": {
    "name": "ipython",
    "version": 3
   },
   "file_extension": ".py",
   "mimetype": "text/x-python",
   "name": "python",
   "nbconvert_exporter": "python",
   "pygments_lexer": "ipython3",
   "version": "3.9.7"
  }
 },
 "nbformat": 4,
 "nbformat_minor": 5
}
