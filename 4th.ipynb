{
 "cells": [
  {
   "cell_type": "code",
   "execution_count": 1,
   "id": "8b7153c6-d4e0-48f9-a40c-64872e07cf1d",
   "metadata": {},
   "outputs": [],
   "source": [
    "import sys\n",
    "import numpy as np"
   ]
  },
  {
   "cell_type": "code",
   "execution_count": 37,
   "id": "38eebbec-b12d-45a7-8c66-d88e7162cc77",
   "metadata": {},
   "outputs": [],
   "source": [
    "def  contains(left,right):\n",
    "    if right[0] >= left[0]:\n",
    "        if right[0] <= left[1]:\n",
    "            if right[1] >= left[0]:\n",
    "                if right[1] <= left[1]:\n",
    "                    #print(f\"score {left} --> {right}\")\n",
    "                    return True\n",
    "    return False"
   ]
  },
  {
   "cell_type": "code",
   "execution_count": 38,
   "id": "8316a4da-23fd-4431-a065-326698817dce",
   "metadata": {},
   "outputs": [
    {
     "name": "stdout",
     "output_type": "stream",
     "text": [
      " score :511\n"
     ]
    }
   ],
   "source": [
    "range_left = {}\n",
    "range_right = {}\n",
    "input = \"./puzzle_input/puzzle_input_4th.txt\"\n",
    "#input = \"./example/example_4th.txt\"\n",
    "score = 0\n",
    "with open(input) as file:\n",
    "    for line in file:\n",
    "        line = line.rstrip()\n",
    "        #print(line)\n",
    "        in_left = (line.split(\",\"))[0].split(\"-\")\n",
    "        left = [int(in_left[0]),int(in_left[1])]\n",
    "        in_right = (line.split(\",\"))[1].split(\"-\")\n",
    "        right = [int(in_right[0]),int(in_right[1])]\n",
    "        if (contains(left,right)) | (contains(right,left)):\n",
    "            score +=1 \n",
    "        \n",
    "print(f\" score :{score}\")"
   ]
  },
  {
   "cell_type": "code",
   "execution_count": 44,
   "id": "f1a40e45-09b3-4819-92a7-b8161341afe2",
   "metadata": {},
   "outputs": [],
   "source": [
    "def  overlaps(left,right):\n",
    "    if left[1] > right[1]:\n",
    "        return False\n",
    "    if left[1] < right[0]:\n",
    "        return False\n",
    "    \n",
    "    return True"
   ]
  },
  {
   "cell_type": "code",
   "execution_count": 47,
   "id": "2adb82aa-68b2-47d2-89b6-a5d32f7961df",
   "metadata": {},
   "outputs": [
    {
     "name": "stdout",
     "output_type": "stream",
     "text": [
      " score :821\n"
     ]
    }
   ],
   "source": [
    "input = \"./puzzle_input/puzzle_input_4th.txt\"\n",
    "#input = \"./example/example_4th.txt\"\n",
    "score = 0\n",
    "with open(input) as file:\n",
    "    for line in file:\n",
    "        line = line.rstrip()\n",
    "        #print(line)\n",
    "        in_left = (line.split(\",\"))[0].split(\"-\")\n",
    "        left = [int(in_left[0]),int(in_left[1])]\n",
    "        in_right = (line.split(\",\"))[1].split(\"-\")\n",
    "        right = [int(in_right[0]),int(in_right[1])]\n",
    "        if (overlaps(left,right)) | (overlaps(right,left)):\n",
    "            #print(f\"score {line}\")\n",
    "            score +=1 \n",
    "        \n",
    "print(f\" score :{score}\")"
   ]
  },
  {
   "cell_type": "code",
   "execution_count": null,
   "id": "985ed335-9823-41ce-b43c-945fe628428a",
   "metadata": {},
   "outputs": [],
   "source": []
  }
 ],
 "metadata": {
  "kernelspec": {
   "display_name": "Python 3 (ipykernel)",
   "language": "python",
   "name": "python3"
  },
  "language_info": {
   "codemirror_mode": {
    "name": "ipython",
    "version": 3
   },
   "file_extension": ".py",
   "mimetype": "text/x-python",
   "name": "python",
   "nbconvert_exporter": "python",
   "pygments_lexer": "ipython3",
   "version": "3.9.7"
  }
 },
 "nbformat": 4,
 "nbformat_minor": 5
}
