{
 "cells": [
  {
   "cell_type": "code",
   "execution_count": null,
   "id": "bad4d6f4-de8a-490b-a5d6-e02007e5d3ba",
   "metadata": {},
   "outputs": [],
   "source": [
    "import sys\n",
    "import numpy as np\n"
   ]
  },
  {
   "cell_type": "code",
   "execution_count": 7,
   "id": "30a9cd53-3088-4bf4-b1d3-5a6bb3b0734e",
   "metadata": {},
   "outputs": [
    {
     "name": "stdout",
     "output_type": "stream",
     "text": [
      "2500 score is 11873\n"
     ]
    }
   ],
   "source": [
    "events = []\n",
    "score = 0\n",
    "score_table = {\"win\":6,\"draw\":3, \"loose\" : 0}\n",
    "action_table = {\"rock\":1,\"paper\":2,\"scissors\":3}\n",
    "wintable = { \"paper rock\" : \"win\",\n",
    "             \"scissors paper\" : \"win\",\n",
    "             \"rock scissors\" : \"win\",\n",
    "             \"rock rock\" : \"draw\",\n",
    "             \"paper paper\" : \"draw\",\n",
    "             \"scissors scissors\": \"draw\",\n",
    "             \"rock paper\" : \"loose\",\n",
    "             \"scissors rock\": \"loose\",\n",
    "             \"paper scissors\" : \"loose\"\n",
    "           }\n",
    "with open(\"./puzzle_input_2nd.txt\") as file:\n",
    "    for line in file:\n",
    "        curline = line.rstrip()\n",
    "        if curline[0] == \"A\" :\n",
    "                elf = \"rock\"\n",
    "        elif curline[0] == \"B\":\n",
    "                elf = \"paper\"\n",
    "        elif curline[0] == \"C\" :\n",
    "                elf = \"scissors\"\n",
    "        if curline[-1] ==  \"X\" :\n",
    "                you = \"rock\"\n",
    "        elif curline[-1] == \"Y\" :\n",
    "                you = \"paper\"\n",
    "        elif curline[-1] == \"Z\" :\n",
    "                you = \"scissors\"\n",
    "        round_input = (elf, you)\n",
    "        events.append(round_input)\n",
    "i = 0\n",
    "for event in events:\n",
    "    i += 1\n",
    "    score += action_table[ event[1] ]\n",
    "    score += score_table[ wintable[event[1]+\" \"+event[0] ] ]\n",
    "\n",
    "print(f\"{i} score is {score}\")"
   ]
  },
  {
   "cell_type": "code",
   "execution_count": 25,
   "id": "17c6c3f2-30f7-46a8-8681-26169c310bfd",
   "metadata": {},
   "outputs": [
    {
     "name": "stdout",
     "output_type": "stream",
     "text": [
      "{'win rock': 'paper', 'win paper': 'scissors', 'win scissors': 'rock', 'draw rock': 'rock', 'draw paper': 'paper', 'draw scissors': 'scissors', 'loose paper': 'rock', 'loose rock': 'scissors', 'loose scissors': 'paper'}\n",
      "1 ('rock', 'loose') scissors  --> scissors 3                                   3\n",
      "2 ('paper', 'loose') rock  --> rock 1                                   4\n",
      "3 ('scissors', 'loose') paper  --> paper 2                                   6\n",
      "4 ('scissors', 'draw') scissors  --> scissors 6                                   12\n",
      "5 ('paper', 'draw') paper  --> paper 5                                   17\n",
      "6 ('scissors', 'win') rock  --> rock 7                                   24\n",
      "7 ('scissors', 'loose') paper  --> paper 2                                   26\n",
      "8 ('scissors', 'draw') scissors  --> scissors 6                                   32\n",
      "9 ('scissors', 'draw') scissors  --> scissors 6                                   38\n",
      "10 ('paper', 'draw') paper  --> paper 5                                   43\n",
      "11 ('paper', 'draw') paper  --> paper 5                                   48\n",
      "12 ('scissors', 'win') rock  --> rock 7                                   55\n",
      "13 ('scissors', 'draw') scissors  --> scissors 6                                   61\n",
      "14 ('rock', 'draw') rock  --> rock 4                                   65\n",
      " score 12014\n"
     ]
    }
   ],
   "source": [
    "events = []\n",
    "score = 0\n",
    "score_table = {\"win\":6,\"draw\":3, \"loose\" : 0}\n",
    "action_table = {\"rock\":1,\"paper\":2,\"scissors\":3}\n",
    "wintable = { \"paper rock\" : \"win\",\n",
    "             \"scissors paper\" : \"win\",\n",
    "             \"rock scissors\" : \"win\",\n",
    "             \"rock rock\" : \"draw\",\n",
    "             \"paper paper\" : \"draw\",\n",
    "             \"scissors scissors\": \"draw\",\n",
    "             \"rock paper\" : \"loose\",\n",
    "             \"scissors rock\": \"loose\",\n",
    "             \"paper scissors\" : \"loose\"\n",
    "           }\n",
    "\n",
    "with open(\"./puzzle_input_2nd.txt\") as file:\n",
    "    for line in file:\n",
    "        curline = line.rstrip()\n",
    "        if curline[0] == \"A\" :\n",
    "                elf = \"rock\"\n",
    "        elif curline[0] == \"B\":\n",
    "                elf = \"paper\"\n",
    "        elif curline[0] == \"C\" :\n",
    "                elf = \"scissors\"\n",
    "        if curline[-1] ==  \"X\" :\n",
    "                you = \"loose\"\n",
    "        elif curline[-1] == \"Y\" :\n",
    "                you = \"draw\"\n",
    "        elif curline[-1] == \"Z\" :\n",
    "                you = \"win\"\n",
    "        round_input = (elf, you)\n",
    "        events.append(round_input)\n",
    "i = 0\n",
    "outcome_table = {}\n",
    "for key in wintable:\n",
    "    value = wintable[key]\n",
    "    outcome_table[value+\" \"+key.split(\" \")[1]] = key.split(\" \")[0]\n",
    "print(outcome_table)\n",
    "total_score = 0\n",
    "for event in events:\n",
    "    i += 1\n",
    "    score = 0\n",
    "    score += action_table[ outcome_table[event[1]+\" \"+event[0] ]]\n",
    "    score += score_table[ event[1]  ]\n",
    "    total_score += score\n",
    "  \n",
    "print(f\" score {total_score}\")"
   ]
  },
  {
   "cell_type": "code",
   "execution_count": null,
   "id": "20fabae5-82c2-4ed7-b4bf-b0de1a5472ef",
   "metadata": {},
   "outputs": [],
   "source": []
  }
 ],
 "metadata": {
  "kernelspec": {
   "display_name": "Python 3 (ipykernel)",
   "language": "python",
   "name": "python3"
  },
  "language_info": {
   "codemirror_mode": {
    "name": "ipython",
    "version": 3
   },
   "file_extension": ".py",
   "mimetype": "text/x-python",
   "name": "python",
   "nbconvert_exporter": "python",
   "pygments_lexer": "ipython3",
   "version": "3.9.7"
  }
 },
 "nbformat": 4,
 "nbformat_minor": 5
}
